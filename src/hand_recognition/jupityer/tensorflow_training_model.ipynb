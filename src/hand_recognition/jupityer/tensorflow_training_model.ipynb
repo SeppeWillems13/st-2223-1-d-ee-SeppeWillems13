{
 "cells": [
  {
   "cell_type": "code",
   "execution_count": 1,
   "id": "74fc802c",
   "metadata": {},
   "outputs": [],
   "source": [
    "# Import required libraries\n",
    "import os\n",
    "import numpy as np\n",
    "import tensorflow as tf\n",
    "from glob import glob\n",
    "from tensorflow.keras.layers import Conv2D, MaxPool2D, Dense, Flatten\n",
    "from tensorflow.keras.models import Sequential\n",
    "from tensorflow.keras.optimizers import Adam"
   ]
  },
  {
   "cell_type": "code",
   "execution_count": 2,
   "id": "4f4bdf0e",
   "metadata": {},
   "outputs": [
    {
     "name": "stdout",
     "output_type": "stream",
     "text": [
      "Using device: CPU\n"
     ]
    }
   ],
   "source": [
    "# Check device\n",
    "if tf.config.list_physical_devices('GPU'):\n",
    "  device = \"GPU\"\n",
    "else:\n",
    "  device = \"CPU\"\n",
    "print(f\"Using device: {device}\")"
   ]
  },
  {
   "cell_type": "code",
   "execution_count": 3,
   "id": "dc3356ad",
   "metadata": {},
   "outputs": [],
   "source": [
    "# Define transformations\n",
    "transformer = tf.keras.preprocessing.image.ImageDataGenerator(\n",
    "    rescale=1./255,\n",
    "    horizontal_flip=True,\n",
    "    shear_range=0.2,\n",
    "    zoom_range=0.2,\n",
    "    width_shift_range=0.2,\n",
    "    height_shift_range=0.2,\n",
    "    fill_mode=\"nearest\"\n",
    ")"
   ]
  },
  {
   "cell_type": "code",
   "execution_count": 4,
   "id": "666f1d7f",
   "metadata": {},
   "outputs": [
    {
     "name": "stdout",
     "output_type": "stream",
     "text": [
      "Found 2741 images belonging to 3 classes.\n",
      "Found 1541 images belonging to 3 classes.\n"
     ]
    }
   ],
   "source": [
    "# Load data\n",
    "train_path = \"../images/train\"\n",
    "test_path = \"../images/test\"\n",
    "\n",
    "train_data = transformer.flow_from_directory(\n",
    "    train_path,\n",
    "    target_size=(224, 224),\n",
    "    batch_size=256,\n",
    "    class_mode=\"categorical\"\n",
    ")\n",
    "\n",
    "test_data = transformer.flow_from_directory(\n",
    "    test_path,\n",
    "    target_size=(224, 224),\n",
    "    batch_size=256,\n",
    "    class_mode=\"categorical\"\n",
    ")"
   ]
  },
  {
   "cell_type": "code",
   "execution_count": 5,
   "id": "8be38a4d",
   "metadata": {},
   "outputs": [
    {
     "name": "stdout",
     "output_type": "stream",
     "text": [
      "Classes: ['paper', 'rock', 'scissors']\n"
     ]
    }
   ],
   "source": [
    "# Get class names\n",
    "class_names = list(train_data.class_indices.keys())\n",
    "print(f\"Classes: {class_names}\")"
   ]
  },
  {
   "cell_type": "code",
   "execution_count": 6,
   "id": "0c477351",
   "metadata": {},
   "outputs": [
    {
     "name": "stdout",
     "output_type": "stream",
     "text": [
      "Model: \"sequential\"\n",
      "_________________________________________________________________\n",
      " Layer (type)                Output Shape              Param #   \n",
      "=================================================================\n",
      " conv2d (Conv2D)             (None, 222, 222, 12)      336       \n",
      "                                                                 \n",
      " max_pooling2d (MaxPooling2D  (None, 111, 111, 12)     0         \n",
      " )                                                               \n",
      "                                                                 \n",
      " conv2d_1 (Conv2D)           (None, 109, 109, 20)      2180      \n",
      "                                                                 \n",
      " conv2d_2 (Conv2D)           (None, 107, 107, 32)      5792      \n",
      "                                                                 \n",
      " max_pooling2d_1 (MaxPooling  (None, 53, 53, 32)       0         \n",
      " 2D)                                                             \n",
      "                                                                 \n",
      " flatten (Flatten)           (None, 89888)             0         \n",
      "                                                                 \n",
      " dense (Dense)               (None, 3)                 269667    \n",
      "                                                                 \n",
      "=================================================================\n",
      "Total params: 277,975\n",
      "Trainable params: 277,975\n",
      "Non-trainable params: 0\n",
      "_________________________________________________________________\n"
     ]
    }
   ],
   "source": [
    "# Define model\n",
    "model = Sequential()\n",
    "\n",
    "model.add(Conv2D(12, (3, 3), activation=\"relu\", input_shape=(224, 224, 3)))\n",
    "model.add(MaxPool2D())\n",
    "model.add(Conv2D(20, (3, 3), activation=\"relu\"))\n",
    "model.add(Conv2D(32, (3, 3), activation=\"relu\"))\n",
    "model.add(MaxPool2D())\n",
    "model.add(Flatten())\n",
    "model.add(Dense(3, activation=\"softmax\"))\n",
    "\n",
    "model.summary()"
   ]
  },
  {
   "cell_type": "code",
   "execution_count": 7,
   "id": "e3848393",
   "metadata": {},
   "outputs": [],
   "source": [
    "# Compile model\n",
    "model.compile(loss=\"categorical_crossentropy\", optimizer=Adam(), metrics=[\"accuracy\"])"
   ]
  },
  {
   "cell_type": "code",
   "execution_count": 8,
   "id": "2445e5b7",
   "metadata": {},
   "outputs": [
    {
     "name": "stdout",
     "output_type": "stream",
     "text": [
      "Epoch 1/10\n",
      "11/11 [==============================] - 96s 9s/step - loss: 1.2012 - accuracy: 0.3937 - val_loss: 0.9149 - val_accuracy: 0.5769\n",
      "Epoch 2/10\n",
      "11/11 [==============================] - 89s 8s/step - loss: 0.8089 - accuracy: 0.6224 - val_loss: 0.7929 - val_accuracy: 0.5587\n",
      "Epoch 3/10\n",
      "11/11 [==============================] - 92s 8s/step - loss: 0.6812 - accuracy: 0.6614 - val_loss: 0.6165 - val_accuracy: 0.7554\n",
      "Epoch 4/10\n",
      "11/11 [==============================] - 93s 8s/step - loss: 0.5877 - accuracy: 0.7355 - val_loss: 0.5578 - val_accuracy: 0.7813\n",
      "Epoch 5/10\n",
      "11/11 [==============================] - 89s 8s/step - loss: 0.5220 - accuracy: 0.7869 - val_loss: 0.4674 - val_accuracy: 0.8060\n",
      "Epoch 6/10\n",
      "11/11 [==============================] - 90s 8s/step - loss: 0.4501 - accuracy: 0.8041 - val_loss: 0.4312 - val_accuracy: 0.8313\n",
      "Epoch 7/10\n",
      "11/11 [==============================] - 91s 8s/step - loss: 0.4170 - accuracy: 0.8318 - val_loss: 0.3973 - val_accuracy: 0.8494\n",
      "Epoch 8/10\n",
      "11/11 [==============================] - 104s 9s/step - loss: 0.3773 - accuracy: 0.8511 - val_loss: 0.3493 - val_accuracy: 0.8501\n",
      "Epoch 9/10\n",
      "11/11 [==============================] - 89s 8s/step - loss: 0.3339 - accuracy: 0.8760 - val_loss: 0.3469 - val_accuracy: 0.8715\n",
      "Epoch 10/10\n",
      "11/11 [==============================] - 99s 9s/step - loss: 0.3432 - accuracy: 0.8588 - val_loss: 0.3160 - val_accuracy: 0.8832\n"
     ]
    }
   ],
   "source": [
    "# Train model\n",
    "history = model.fit(\n",
    "    train_data,\n",
    "    epochs=10,\n",
    "    validation_data=test_data\n",
    ")"
   ]
  },
  {
   "cell_type": "code",
   "execution_count": 9,
   "id": "c1717c11",
   "metadata": {},
   "outputs": [
    {
     "name": "stdout",
     "output_type": "stream",
     "text": [
      "7/7 [==============================] - 25s 3s/step - loss: 0.3236 - accuracy: 0.8754\n",
      "Test accuracy: 0.8754056096076965\n"
     ]
    }
   ],
   "source": [
    "# Evaluate model\n",
    "_, test_acc = model.evaluate(test_data)\n",
    "print(f\"Test accuracy: {test_acc}\")"
   ]
  },
  {
   "cell_type": "code",
   "execution_count": 10,
   "id": "b05ad17d",
   "metadata": {},
   "outputs": [],
   "source": [
    "# Save model\n",
    "model.save(\"model/model.h5\")\n"
   ]
  },
  {
   "cell_type": "code",
   "execution_count": null,
   "id": "45456e68",
   "metadata": {},
   "outputs": [],
   "source": []
  }
 ],
 "metadata": {
  "kernelspec": {
   "display_name": "Python 3 (ipykernel)",
   "language": "python",
   "name": "python3"
  },
  "language_info": {
   "codemirror_mode": {
    "name": "ipython",
    "version": 3
   },
   "file_extension": ".py",
   "mimetype": "text/x-python",
   "name": "python",
   "nbconvert_exporter": "python",
   "pygments_lexer": "ipython3",
   "version": "3.10.9"
  }
 },
 "nbformat": 4,
 "nbformat_minor": 5
}
